{
 "cells": [
  {
   "cell_type": "code",
   "execution_count": 1,
   "metadata": {
    "ExecuteTime": {
     "end_time": "2017-10-10T04:32:04.426551Z",
     "start_time": "2017-10-10T04:32:03.694126Z"
    }
   },
   "outputs": [],
   "source": [
    "import websocket\n",
    "import json\n",
    "from datetime import datetime\n",
    "import pubnub\n",
    "import pandas as pd\n",
    "from threading import Thread\n",
    "from queue import Queue\n",
    "from pubnub.pnconfiguration import PNConfiguration\n",
    "from pubnub.pubnub import PubNub, SubscribeCallback, PNStatusCategory"
   ]
  },
  {
   "cell_type": "code",
   "execution_count": 2,
   "metadata": {
    "ExecuteTime": {
     "end_time": "2017-10-10T04:32:04.488576Z",
     "start_time": "2017-10-10T04:32:04.428792Z"
    }
   },
   "outputs": [],
   "source": [
    "store = pd.HDFStore('data.h5', mode='a', complevel=5, complib='zlib', fletcher32=True)"
   ]
  },
  {
   "cell_type": "code",
   "execution_count": 3,
   "metadata": {
    "ExecuteTime": {
     "end_time": "2017-10-10T04:32:04.493950Z",
     "start_time": "2017-10-10T04:32:04.490686Z"
    }
   },
   "outputs": [],
   "source": [
    "coincheck_updates = Queue()\n",
    "bitflyer_updates = Queue()\n",
    "store_queue = Queue()"
   ]
  },
  {
   "cell_type": "code",
   "execution_count": 4,
   "metadata": {
    "ExecuteTime": {
     "end_time": "2017-10-10T04:32:05.020572Z",
     "start_time": "2017-10-10T04:32:04.495802Z"
    }
   },
   "outputs": [
    {
     "data": {
      "text/plain": [
       "59"
      ]
     },
     "execution_count": 4,
     "metadata": {},
     "output_type": "execute_result"
    }
   ],
   "source": [
    "coincheck_orderbook = websocket.create_connection('wss://ws-api.coincheck.com/')\n",
    "coincheck_orderbook.send(json.dumps({'type': \"subscribe\", 'channel': \"btc_jpy-orderbook\"}))"
   ]
  },
  {
   "cell_type": "code",
   "execution_count": 5,
   "metadata": {
    "ExecuteTime": {
     "end_time": "2017-10-10T04:32:05.027258Z",
     "start_time": "2017-10-10T04:32:05.022439Z"
    }
   },
   "outputs": [],
   "source": [
    "def collect_coincheck_updates():\n",
    "        while True:\n",
    "            channel, book = json.loads(coincheck_orderbook.recv())\n",
    "            timestamp = datetime.now()\n",
    "            coincheck_updates.put((timestamp, book))"
   ]
  },
  {
   "cell_type": "code",
   "execution_count": 6,
   "metadata": {
    "ExecuteTime": {
     "end_time": "2017-10-10T04:32:05.041046Z",
     "start_time": "2017-10-10T04:32:05.028986Z"
    }
   },
   "outputs": [],
   "source": [
    "def parse_coincheck_updates():\n",
    "    while True:\n",
    "        snapshots = [coincheck_updates.get() for _ in range(30)]\n",
    "        orders = list()\n",
    "        for snapshot in snapshots:\n",
    "            timestamp, book = snapshot\n",
    "            orders += [{'order_type': 'ask', 'price': o[0], 'volume': o[1], 'timestamp':timestamp} \n",
    "                    for o in book.get('asks')]\n",
    "            orders += [{'order_type': 'bid', 'price': o[0], 'volume': o[1], 'timestamp':timestamp} \n",
    "                    for o in book.get('bids')]\n",
    "        store_queue.put(('coincheck/btc_jpy', pd.DataFrame(orders)))"
   ]
  },
  {
   "cell_type": "code",
   "execution_count": 7,
   "metadata": {
    "ExecuteTime": {
     "end_time": "2017-10-10T04:32:05.051994Z",
     "start_time": "2017-10-10T04:32:05.043145Z"
    }
   },
   "outputs": [],
   "source": [
    "class MyListener(SubscribeCallback):\n",
    "    \n",
    "    def status(self, pubnub, status):\n",
    "        if status.category == PNStatusCategory.PNConnectedCategory:\n",
    "            print('connected')\n",
    " \n",
    "    def message(self, pubnub, message):\n",
    "        bitflyer_updates.put(message)\n",
    " \n",
    "    def presence(self, pubnub, presence):\n",
    "        print('asdad')"
   ]
  },
  {
   "cell_type": "code",
   "execution_count": 8,
   "metadata": {
    "ExecuteTime": {
     "end_time": "2017-10-10T04:32:05.058648Z",
     "start_time": "2017-10-10T04:32:05.053806Z"
    }
   },
   "outputs": [],
   "source": [
    "def parse_bitflyer_updates():\n",
    "    while True:\n",
    "        messages = [bitflyer_updates.get().message for _ in range(100)]\n",
    "        store_queue.put(('bitflyet/lightning_ticker_BTC_JPY', pd.DataFrame(messages)))"
   ]
  },
  {
   "cell_type": "code",
   "execution_count": 9,
   "metadata": {
    "ExecuteTime": {
     "end_time": "2017-10-10T04:32:05.064550Z",
     "start_time": "2017-10-10T04:32:05.060267Z"
    }
   },
   "outputs": [],
   "source": [
    "def store_updates():\n",
    "    while True:\n",
    "        key, updates = store_queue.get()\n",
    "        store.append(key, updates, format='table')"
   ]
  },
  {
   "cell_type": "code",
   "execution_count": 10,
   "metadata": {
    "ExecuteTime": {
     "end_time": "2017-10-10T04:32:05.087845Z",
     "start_time": "2017-10-10T04:32:05.066806Z"
    }
   },
   "outputs": [],
   "source": [
    "pnconfig = PNConfiguration()\n",
    "pnconfig.subscribe_key = \"sub-c-52a9ab50-291b-11e5-baaa-0619f8945a4f\"\n",
    "pnconfig.ssl = True\n",
    " \n",
    "pubnub = PubNub(pnconfig)\n",
    "listener = MyListener()\n",
    "pubnub.add_listener(listener)\n",
    "pubnub.subscribe().channels('lightning_ticker_BTC_JPY').execute()"
   ]
  },
  {
   "cell_type": "code",
   "execution_count": 11,
   "metadata": {
    "ExecuteTime": {
     "end_time": "2017-10-10T04:32:05.094394Z",
     "start_time": "2017-10-10T04:32:05.089437Z"
    }
   },
   "outputs": [
    {
     "name": "stdout",
     "output_type": "stream",
     "text": [
      "connected\n"
     ]
    }
   ],
   "source": [
    "Thread(target = collect_coincheck_updates).start()\n",
    "Thread(target=parse_bitflyer_updates).start()\n",
    "Thread(target=parse_coincheck_updates).start()\n",
    "Thread(target=store_updates).start()"
   ]
  }
 ],
 "metadata": {
  "kernelspec": {
   "display_name": "Python 3",
   "language": "python",
   "name": "python3"
  },
  "language_info": {
   "codemirror_mode": {
    "name": "ipython",
    "version": 3
   },
   "file_extension": ".py",
   "mimetype": "text/x-python",
   "name": "python",
   "nbconvert_exporter": "python",
   "pygments_lexer": "ipython3",
   "version": "3.6.2"
  }
 },
 "nbformat": 4,
 "nbformat_minor": 2
}
